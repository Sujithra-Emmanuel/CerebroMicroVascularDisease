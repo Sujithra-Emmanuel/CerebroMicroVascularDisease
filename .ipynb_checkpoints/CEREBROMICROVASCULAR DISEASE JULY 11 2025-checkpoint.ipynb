{
 "cells": [
  {
   "cell_type": "code",
   "execution_count": null,
   "id": "8da7bfd7-ef3b-45df-bce8-51c548f0782a",
   "metadata": {},
   "outputs": [],
   "source": [
    "Hello"
   ]
  },
  {
   "cell_type": "code",
   "execution_count": null,
   "id": "7d8e45fd-eb69-4dfd-996b-ff29351ff9a2",
   "metadata": {},
   "outputs": [],
   "source": [
    "How are u"
   ]
  }
 ],
 "metadata": {
  "kernelspec": {
   "display_name": "",
   "name": ""
  },
  "language_info": {
   "name": ""
  }
 },
 "nbformat": 4,
 "nbformat_minor": 5
}
